{
 "cells": [
  {
   "cell_type": "code",
   "execution_count": 3,
   "id": "3c63e682",
   "metadata": {},
   "outputs": [
    {
     "name": "stdout",
     "output_type": "stream",
     "text": [
      "Hello Python\n",
      "abanoub\n",
      "23\n"
     ]
    }
   ],
   "source": [
    "print('Hello Python')\n"
   ]
  },
  {
   "cell_type": "code",
   "execution_count": 4,
   "id": "f9a14aa3",
   "metadata": {},
   "outputs": [
    {
     "name": "stdout",
     "output_type": "stream",
     "text": [
      "abanoub\n",
      "23\n"
     ]
    }
   ],
   "source": [
    "my_name = 'abanoub'\n",
    "my_age = 23\n",
    "print(my_name)\n",
    "print(my_age)"
   ]
  },
  {
   "cell_type": "code",
   "execution_count": 8,
   "id": "7c11031f",
   "metadata": {},
   "outputs": [
    {
     "name": "stdout",
     "output_type": "stream",
     "text": [
      "a and b are equal\n"
     ]
    }
   ],
   "source": [
    "a= 50\n",
    "b= 50\n",
    "if b > a:\n",
    "    print('b is greater than a')\n",
    "elif a==b:\n",
    "    print('a and b are equal')\n",
    "else :\n",
    "    print('a is greater than b')\n",
    "    "
   ]
  },
  {
   "cell_type": "code",
   "execution_count": 39,
   "id": "a7840c42",
   "metadata": {},
   "outputs": [
    {
     "data": {
      "text/plain": [
       "['Amira', 'Isaac', 'Ive', 'Dave', 'Besho']"
      ]
     },
     "execution_count": 39,
     "metadata": {},
     "output_type": "execute_result"
    }
   ],
   "source": [
    "student_names = ['Amira', 'Isaac', 'Ive', 'Dave', 'Besho']\n",
    "student_names\n"
   ]
  },
  {
   "cell_type": "code",
   "execution_count": 40,
   "id": "c6a92ed4",
   "metadata": {},
   "outputs": [
    {
     "data": {
      "text/plain": [
       "'Amira'"
      ]
     },
     "execution_count": 40,
     "metadata": {},
     "output_type": "execute_result"
    }
   ],
   "source": [
    "student_names[0]"
   ]
  },
  {
   "cell_type": "code",
   "execution_count": 41,
   "id": "0738fca1",
   "metadata": {},
   "outputs": [
    {
     "data": {
      "text/plain": [
       "'Besho'"
      ]
     },
     "execution_count": 41,
     "metadata": {},
     "output_type": "execute_result"
    }
   ],
   "source": [
    "student_names[-1]"
   ]
  },
  {
   "cell_type": "code",
   "execution_count": 42,
   "id": "41b89cb8",
   "metadata": {},
   "outputs": [
    {
     "data": {
      "text/plain": [
       "['Isaac', 'Ive', 'Dave', 'Besho']"
      ]
     },
     "execution_count": 42,
     "metadata": {},
     "output_type": "execute_result"
    }
   ],
   "source": [
    "student_names[1:]"
   ]
  },
  {
   "cell_type": "code",
   "execution_count": 18,
   "id": "b1d233f9",
   "metadata": {},
   "outputs": [
    {
     "data": {
      "text/plain": [
       "['Amira', 'Isaac', 'Ive']"
      ]
     },
     "execution_count": 18,
     "metadata": {},
     "output_type": "execute_result"
    }
   ],
   "source": [
    "student_names[:3]"
   ]
  },
  {
   "cell_type": "code",
   "execution_count": 43,
   "id": "6d4a1403",
   "metadata": {},
   "outputs": [
    {
     "data": {
      "text/plain": [
       "['Amira', 'Isaac']"
      ]
     },
     "execution_count": 43,
     "metadata": {},
     "output_type": "execute_result"
    }
   ],
   "source": [
    "student_names[0:2]"
   ]
  },
  {
   "cell_type": "code",
   "execution_count": 44,
   "id": "d3c9bfa4",
   "metadata": {},
   "outputs": [
    {
     "data": {
      "text/plain": [
       "['Amira', 'Isaac', 'Ive', 'Dave', 'Besho', 'nader']"
      ]
     },
     "execution_count": 44,
     "metadata": {},
     "output_type": "execute_result"
    }
   ],
   "source": [
    "student_names.append('nader')\n",
    "student_names"
   ]
  },
  {
   "cell_type": "code",
   "execution_count": 45,
   "id": "37f748f6",
   "metadata": {},
   "outputs": [
    {
     "data": {
      "text/plain": [
       "['Amira', 'Isaac', 'Ive', 'Dave', 'Besho', 'nader', 'Hany']"
      ]
     },
     "execution_count": 45,
     "metadata": {},
     "output_type": "execute_result"
    }
   ],
   "source": [
    "student_names.append('Hany')\n",
    "student_names"
   ]
  },
  {
   "cell_type": "code",
   "execution_count": 46,
   "id": "4417aaa1",
   "metadata": {},
   "outputs": [
    {
     "data": {
      "text/plain": [
       "['Amira', 'Isaac', 'Holy', 'Ive', 'Dave', 'Besho', 'nader', 'Hany']"
      ]
     },
     "execution_count": 46,
     "metadata": {},
     "output_type": "execute_result"
    }
   ],
   "source": [
    "student_names.insert(2 , 'Holy')\n",
    "student_names"
   ]
  },
  {
   "cell_type": "code",
   "execution_count": 47,
   "id": "4b3320cd",
   "metadata": {},
   "outputs": [],
   "source": [
    "del student_names[-1]"
   ]
  },
  {
   "cell_type": "code",
   "execution_count": 48,
   "id": "52d759ec",
   "metadata": {},
   "outputs": [
    {
     "data": {
      "text/plain": [
       "['Amira', 'Isaac', 'Holy', 'Ive', 'Dave', 'Besho', 'nader']"
      ]
     },
     "execution_count": 48,
     "metadata": {},
     "output_type": "execute_result"
    }
   ],
   "source": [
    "student_names\n"
   ]
  },
  {
   "cell_type": "code",
   "execution_count": 50,
   "id": "c1364f62",
   "metadata": {},
   "outputs": [
    {
     "data": {
      "text/plain": [
       "['Amira', 'Isaac', 'Holy', 'Ive', 'Dave']"
      ]
     },
     "execution_count": 50,
     "metadata": {},
     "output_type": "execute_result"
    }
   ],
   "source": [
    "del student_names[-1]\n",
    "student_names"
   ]
  },
  {
   "cell_type": "code",
   "execution_count": 52,
   "id": "9c065a85",
   "metadata": {},
   "outputs": [
    {
     "data": {
      "text/plain": [
       "['Amira', 'Isaac', 'Holy', 'Ive', 'Dave', 'Nader']"
      ]
     },
     "execution_count": 52,
     "metadata": {},
     "output_type": "execute_result"
    }
   ],
   "source": [
    "student_names.append('Nader')\n",
    "student_names"
   ]
  },
  {
   "cell_type": "code",
   "execution_count": 53,
   "id": "5ae78e4d",
   "metadata": {},
   "outputs": [
    {
     "data": {
      "text/plain": [
       "['Amira', 'Isaac', 'Holy', 'Ive', 'Dave', 'Nader', 'Hany']"
      ]
     },
     "execution_count": 53,
     "metadata": {},
     "output_type": "execute_result"
    }
   ],
   "source": [
    "student_names.append('Hany')\n",
    "student_names"
   ]
  },
  {
   "cell_type": "code",
   "execution_count": 62,
   "id": "06aec1bd",
   "metadata": {},
   "outputs": [
    {
     "name": "stdout",
     "output_type": "stream",
     "text": [
      "Welcome Amira :)\n",
      "Welcome Isaac :)\n",
      "Welcome Holy :)\n",
      "Welcome Ive :)\n",
      "Welcome Dave :)\n",
      "Welcome Nader :)\n",
      "Welcome Hany :)\n"
     ]
    }
   ],
   "source": [
    "student_names = ['Amira', 'Isaac', 'Holy', 'Ive', 'Dave', 'Nader', 'Hany']\n",
    "for i in student_names :\n",
    "    print ('Welcome ' +i+ ' :)')\n",
    "    "
   ]
  },
  {
   "cell_type": "code",
   "execution_count": 63,
   "id": "e5b78b9b",
   "metadata": {},
   "outputs": [
    {
     "data": {
      "text/plain": [
       "[('Amira', 'Amira'),\n",
       " ('Amira', 'Isaac'),\n",
       " ('Amira', 'Holy'),\n",
       " ('Amira', 'Ive'),\n",
       " ('Amira', 'Dave'),\n",
       " ('Amira', 'Nader'),\n",
       " ('Amira', 'Hany'),\n",
       " ('Isaac', 'Amira'),\n",
       " ('Isaac', 'Isaac'),\n",
       " ('Isaac', 'Holy'),\n",
       " ('Isaac', 'Ive'),\n",
       " ('Isaac', 'Dave'),\n",
       " ('Isaac', 'Nader'),\n",
       " ('Isaac', 'Hany'),\n",
       " ('Holy', 'Amira'),\n",
       " ('Holy', 'Isaac'),\n",
       " ('Holy', 'Holy'),\n",
       " ('Holy', 'Ive'),\n",
       " ('Holy', 'Dave'),\n",
       " ('Holy', 'Nader'),\n",
       " ('Holy', 'Hany'),\n",
       " ('Ive', 'Amira'),\n",
       " ('Ive', 'Isaac'),\n",
       " ('Ive', 'Holy'),\n",
       " ('Ive', 'Ive'),\n",
       " ('Ive', 'Dave'),\n",
       " ('Ive', 'Nader'),\n",
       " ('Ive', 'Hany'),\n",
       " ('Dave', 'Amira'),\n",
       " ('Dave', 'Isaac'),\n",
       " ('Dave', 'Holy'),\n",
       " ('Dave', 'Ive'),\n",
       " ('Dave', 'Dave'),\n",
       " ('Dave', 'Nader'),\n",
       " ('Dave', 'Hany'),\n",
       " ('Nader', 'Amira'),\n",
       " ('Nader', 'Isaac'),\n",
       " ('Nader', 'Holy'),\n",
       " ('Nader', 'Ive'),\n",
       " ('Nader', 'Dave'),\n",
       " ('Nader', 'Nader'),\n",
       " ('Nader', 'Hany'),\n",
       " ('Hany', 'Amira'),\n",
       " ('Hany', 'Isaac'),\n",
       " ('Hany', 'Holy'),\n",
       " ('Hany', 'Ive'),\n",
       " ('Hany', 'Dave'),\n",
       " ('Hany', 'Nader'),\n",
       " ('Hany', 'Hany')]"
      ]
     },
     "execution_count": 63,
     "metadata": {},
     "output_type": "execute_result"
    }
   ],
   "source": [
    "student_names = ['Amira', 'Isaac', 'Holy', 'Ive', 'Dave', 'Nader', 'Hany']\n",
    "\n",
    "student_pairs = []\n",
    "for student_name_0 in student_names:\n",
    "    for student_name_1 in student_names:\n",
    "        student_pairs.append(\n",
    "            (student_name_0, student_name_1)\n",
    "        )\n",
    "\n",
    "student_pairs"
   ]
  },
  {
   "cell_type": "code",
   "execution_count": 65,
   "id": "aa3e893b",
   "metadata": {},
   "outputs": [
    {
     "data": {
      "text/plain": [
       "[('Amira', 'Isaac'),\n",
       " ('Amira', 'Holy'),\n",
       " ('Amira', 'Ive'),\n",
       " ('Amira', 'Dave'),\n",
       " ('Amira', 'Nader'),\n",
       " ('Amira', 'Hany'),\n",
       " ('Isaac', 'Amira'),\n",
       " ('Isaac', 'Holy'),\n",
       " ('Isaac', 'Ive'),\n",
       " ('Isaac', 'Dave'),\n",
       " ('Isaac', 'Nader'),\n",
       " ('Isaac', 'Hany'),\n",
       " ('Holy', 'Amira'),\n",
       " ('Holy', 'Isaac'),\n",
       " ('Holy', 'Ive'),\n",
       " ('Holy', 'Dave'),\n",
       " ('Holy', 'Nader'),\n",
       " ('Holy', 'Hany'),\n",
       " ('Ive', 'Amira'),\n",
       " ('Ive', 'Isaac'),\n",
       " ('Ive', 'Holy'),\n",
       " ('Ive', 'Dave'),\n",
       " ('Ive', 'Nader'),\n",
       " ('Ive', 'Hany'),\n",
       " ('Dave', 'Amira'),\n",
       " ('Dave', 'Isaac'),\n",
       " ('Dave', 'Holy'),\n",
       " ('Dave', 'Ive'),\n",
       " ('Dave', 'Nader'),\n",
       " ('Dave', 'Hany'),\n",
       " ('Nader', 'Amira'),\n",
       " ('Nader', 'Isaac'),\n",
       " ('Nader', 'Holy'),\n",
       " ('Nader', 'Ive'),\n",
       " ('Nader', 'Dave'),\n",
       " ('Nader', 'Hany'),\n",
       " ('Hany', 'Amira'),\n",
       " ('Hany', 'Isaac'),\n",
       " ('Hany', 'Holy'),\n",
       " ('Hany', 'Ive'),\n",
       " ('Hany', 'Dave'),\n",
       " ('Hany', 'Nader')]"
      ]
     },
     "execution_count": 65,
     "metadata": {},
     "output_type": "execute_result"
    }
   ],
   "source": [
    "student_names = ['Amira', 'Isaac', 'Holy', 'Ive', 'Dave', 'Nader', 'Hany']\n",
    "\n",
    "student_pairs = []\n",
    "for student_name_0 in student_names:\n",
    "    for student_name_1 in student_names:\n",
    "        if student_name_0 != student_name_1 :\n",
    "            student_pairs.append(\n",
    "            (student_name_0, student_name_1)\n",
    "        )\n",
    "\n",
    "student_pairs"
   ]
  },
  {
   "cell_type": "code",
   "execution_count": 71,
   "id": "44fa4dfe",
   "metadata": {},
   "outputs": [
    {
     "name": "stdout",
     "output_type": "stream",
     "text": [
      "student_name:  Amira\n",
      "subject:       English\n",
      "grade:         A\n"
     ]
    }
   ],
   "source": [
    "student_grade = ('Amira', 'English', 'A')\n",
    "student_name, subject, grade = student_grade\n",
    "\n",
    "print( 'student_name:  ' +student_name )\n",
    "print('subject:       ' +subject)\n",
    "print('grade:         ' +grade)"
   ]
  },
  {
   "cell_type": "code",
   "execution_count": 75,
   "id": "7e353a53",
   "metadata": {},
   "outputs": [
    {
     "name": "stdout",
     "output_type": "stream",
     "text": [
      "Congratulations Amira on getting an A in English\n",
      "Congratulations Dave on getting an A- in German\n"
     ]
    }
   ],
   "source": [
    "student_grades = [('Amira', 'English', 'A')\n",
    "                  ,('Holy', 'French', 'B-'),\n",
    "                  ('Nader', 'Italian', 'B+'),\n",
    "                  ('Dave', 'German', 'A-'),]\n",
    "\n",
    "for student_name, subject, grade in student_grades:\n",
    "    if grade.startswith('A'):\n",
    "        print('Congratulations', student_name,\n",
    "              'on getting an', grade,\n",
    "              'in', subject)"
   ]
  },
  {
   "cell_type": "code",
   "execution_count": 83,
   "id": "369fa5e0",
   "metadata": {},
   "outputs": [
    {
     "data": {
      "text/plain": [
       "'Italian'"
      ]
     },
     "execution_count": 83,
     "metadata": {},
     "output_type": "execute_result"
    }
   ],
   "source": [
    "# this is a Dictionaries have a key and value \n",
    "foreign_languages = {\n",
    "    #key : value\n",
    "    'Amira': 'English',\n",
    "    'Nader': 'French',\n",
    "    'Hany': 'Italian',\n",
    "    'Dave': 'German',\n",
    "}\n",
    "foreign_languages['Hany']"
   ]
  },
  {
   "cell_type": "code",
   "execution_count": 84,
   "id": "4c593f35",
   "metadata": {},
   "outputs": [
    {
     "data": {
      "text/plain": [
       "'English'"
      ]
     },
     "execution_count": 84,
     "metadata": {},
     "output_type": "execute_result"
    }
   ],
   "source": [
    "foreign_languages['Amira']"
   ]
  },
  {
   "cell_type": "code",
   "execution_count": 86,
   "id": "65b02fe0",
   "metadata": {},
   "outputs": [
    {
     "data": {
      "text/plain": [
       "True"
      ]
     },
     "execution_count": 86,
     "metadata": {},
     "output_type": "execute_result"
    }
   ],
   "source": [
    "'Hany' in foreign_languages"
   ]
  },
  {
   "cell_type": "code",
   "execution_count": 87,
   "id": "37932ac0",
   "metadata": {},
   "outputs": [
    {
     "data": {
      "text/plain": [
       "False"
      ]
     },
     "execution_count": 87,
     "metadata": {},
     "output_type": "execute_result"
    }
   ],
   "source": [
    "'Holy' in foreign_languages"
   ]
  },
  {
   "cell_type": "code",
   "execution_count": 89,
   "id": "69597b93",
   "metadata": {},
   "outputs": [
    {
     "data": {
      "text/plain": [
       "{'Amira': 'English',\n",
       " 'Nader': 'French',\n",
       " 'Hany': 'Italian',\n",
       " 'Dave': 'German',\n",
       " 'Abanoub': 'Spanish'}"
      ]
     },
     "execution_count": 89,
     "metadata": {},
     "output_type": "execute_result"
    }
   ],
   "source": [
    "# Add an entry that doesn't exist\n",
    "foreign_languages['Abanoub'] = 'Spanish'\n",
    "foreign_languages"
   ]
  },
  {
   "cell_type": "code",
   "execution_count": 90,
   "id": "313bc8ab",
   "metadata": {},
   "outputs": [
    {
     "data": {
      "text/plain": [
       "True"
      ]
     },
     "execution_count": 90,
     "metadata": {},
     "output_type": "execute_result"
    }
   ],
   "source": [
    "'Abanoub' in foreign_languages"
   ]
  },
  {
   "cell_type": "code",
   "execution_count": 91,
   "id": "3dd174c1",
   "metadata": {},
   "outputs": [
    {
     "data": {
      "text/plain": [
       "{'Amira': 'English', 'Nader': 'French', 'Dave': 'German', 'Abanoub': 'Spanish'}"
      ]
     },
     "execution_count": 91,
     "metadata": {},
     "output_type": "execute_result"
    }
   ],
   "source": [
    "# Delete an entry that exists\n",
    "del foreign_languages['Hany']\n",
    "foreign_languages"
   ]
  },
  {
   "cell_type": "code",
   "execution_count": 92,
   "id": "520f4344",
   "metadata": {},
   "outputs": [
    {
     "data": {
      "text/plain": [
       "False"
      ]
     },
     "execution_count": 92,
     "metadata": {},
     "output_type": "execute_result"
    }
   ],
   "source": [
    "'Hany' in foreign_languages"
   ]
  },
  {
   "cell_type": "code",
   "execution_count": 93,
   "id": "e358c51a",
   "metadata": {},
   "outputs": [
    {
     "data": {
      "text/plain": [
       "{'Amira': 'English',\n",
       " 'Nader': 'French',\n",
       " 'Dave': 'German',\n",
       " 'Abanoub': 'Spanish',\n",
       " 'Kamil': 'Arabic'}"
      ]
     },
     "execution_count": 93,
     "metadata": {},
     "output_type": "execute_result"
    }
   ],
   "source": [
    "foreign_languages['Kamil'] = 'Arabic'\n",
    "foreign_languages"
   ]
  },
  {
   "cell_type": "code",
   "execution_count": 94,
   "id": "b8dc37b4",
   "metadata": {},
   "outputs": [
    {
     "data": {
      "text/plain": [
       "True"
      ]
     },
     "execution_count": 94,
     "metadata": {},
     "output_type": "execute_result"
    }
   ],
   "source": [
    "'Kamil' in foreign_languages"
   ]
  },
  {
   "cell_type": "code",
   "execution_count": 95,
   "id": "5b9f27c9",
   "metadata": {},
   "outputs": [
    {
     "data": {
      "text/plain": [
       "{'Amira': 'English',\n",
       " 'Nader': 'French',\n",
       " 'Dave': 'German',\n",
       " 'Abanoub': 'Spanish',\n",
       " 'Kamil': 'Italian'}"
      ]
     },
     "execution_count": 95,
     "metadata": {},
     "output_type": "execute_result"
    }
   ],
   "source": [
    "# Change an entry that does exist\n",
    "foreign_languages['Kamil'] = 'Italian'\n",
    "foreign_languages"
   ]
  },
  {
   "cell_type": "code",
   "execution_count": 96,
   "id": "9b897caa",
   "metadata": {},
   "outputs": [
    {
     "name": "stdout",
     "output_type": "stream",
     "text": [
      "Amira is taking English\n",
      "Nader is taking French\n",
      "Dave is taking German\n",
      "Abanoub is taking Spanish\n",
      "Kamil is taking Italian\n"
     ]
    }
   ],
   "source": [
    "# Looping over dictionaries\n",
    "for key in foreign_languages:\n",
    "    value = foreign_languages[key]\n",
    "    print(key, 'is taking', value)\n"
   ]
  },
  {
   "cell_type": "code",
   "execution_count": 99,
   "id": "dfc3fb96",
   "metadata": {},
   "outputs": [
    {
     "name": "stdout",
     "output_type": "stream",
     "text": [
      "Amira is taking English\n",
      "Nader is taking French\n",
      "Dave is taking German\n",
      "Abanoub is taking Spanish\n",
      "Kamil is taking Italian\n"
     ]
    }
   ],
   "source": [
    "for key, value in foreign_languages.items():\n",
    "    print(key, 'is taking', value)"
   ]
  },
  {
   "cell_type": "code",
   "execution_count": 109,
   "id": "a9f626c6",
   "metadata": {},
   "outputs": [
    {
     "data": {
      "text/plain": [
       "('Dave', 'German', 'A-')"
      ]
     },
     "execution_count": 109,
     "metadata": {},
     "output_type": "execute_result"
    }
   ],
   "source": [
    "#This is a list of tuples:\n",
    "student_grades = [\n",
    "    ('Amira', 'Spanish', 'A'),\n",
    "    ('Hany', 'French', 'B-'),\n",
    "    ('Holy', 'Italian', 'B+'),\n",
    "    ('Dave', 'German', 'A-'),\n",
    "]\n",
    "student_grades[3]"
   ]
  },
  {
   "cell_type": "code",
   "execution_count": 110,
   "id": "2e9788a8",
   "metadata": {},
   "outputs": [
    {
     "data": {
      "text/plain": [
       "'German'"
      ]
     },
     "execution_count": 110,
     "metadata": {},
     "output_type": "execute_result"
    }
   ],
   "source": [
    "# we can work with the individual tuples as such\n",
    "student_grades[3][1]"
   ]
  },
  {
   "cell_type": "code",
   "execution_count": 123,
   "id": "9c3252f2",
   "metadata": {},
   "outputs": [
    {
     "data": {
      "text/plain": [
       "[{'name': 'Amira', 'subject': 'Spanish', 'grade': 'A'},\n",
       " {'name': 'Hany', 'subject': 'French', 'grade': 'B-'},\n",
       " {'name': 'Holy', 'subject': 'Italian', 'grade': 'B+'},\n",
       " {'name': 'Dave', 'subject': 'German', 'grade': 'A-'}]"
      ]
     },
     "execution_count": 123,
     "metadata": {},
     "output_type": "execute_result"
    }
   ],
   "source": [
    "st_gr_records = []\n",
    "for student_name, subject, grade in student_grades:\n",
    "    record = {\n",
    "        'name': student_name,'subject': subject, 'grade': grade,\n",
    "    }\n",
    "    st_gr_records.append(record)\n",
    "    \n",
    "st_gr_records"
   ]
  },
  {
   "cell_type": "code",
   "execution_count": 124,
   "id": "e0684a6b",
   "metadata": {},
   "outputs": [
    {
     "data": {
      "text/plain": [
       "{'name': 'Hany', 'subject': 'French', 'grade': 'B-'}"
      ]
     },
     "execution_count": 124,
     "metadata": {},
     "output_type": "execute_result"
    }
   ],
   "source": [
    "st_gr_records[1]"
   ]
  },
  {
   "cell_type": "code",
   "execution_count": 127,
   "id": "98f2577b",
   "metadata": {},
   "outputs": [
    {
     "data": {
      "text/plain": [
       "'B+'"
      ]
     },
     "execution_count": 127,
     "metadata": {},
     "output_type": "execute_result"
    }
   ],
   "source": [
    "st_gr_records[2]['grade']"
   ]
  },
  {
   "cell_type": "code",
   "execution_count": 128,
   "id": "b88b5289",
   "metadata": {},
   "outputs": [
    {
     "name": "stdout",
     "output_type": "stream",
     "text": [
      "Congratulations Amira on getting an A in Spanish\n",
      "Congratulations Dave on getting an A- in German\n"
     ]
    }
   ],
   "source": [
    "for record in st_gr_records:\n",
    "    if record['grade'].startswith('A'):\n",
    "        print('Congratulations', record['name'], \n",
    "              'on getting an', record['grade'], \n",
    "              'in', record['subject'])"
   ]
  },
  {
   "cell_type": "code",
   "execution_count": 129,
   "id": "d18318af",
   "metadata": {},
   "outputs": [
    {
     "data": {
      "text/plain": [
       "{'Amira': {'subject': 'Spanish', 'grade': 'A'},\n",
       " 'Hany': {'subject': 'French', 'grade': 'B-'},\n",
       " 'Holy': {'subject': 'Italian', 'grade': 'B+'},\n",
       " 'Dave': {'subject': 'German', 'grade': 'A-'}}"
      ]
     },
     "execution_count": 129,
     "metadata": {},
     "output_type": "execute_result"
    }
   ],
   "source": [
    "#Dictionary of dictionaries\n",
    "foreign_language_grades = {}\n",
    "for student_name, subject, grade in student_grades:\n",
    "    record = {\n",
    "        'subject': subject,\n",
    "        'grade': grade,\n",
    "    }\n",
    "    foreign_language_grades[student_name] = record\n",
    "    \n",
    "foreign_language_grades"
   ]
  },
  {
   "cell_type": "code",
   "execution_count": null,
   "id": "0661abc0",
   "metadata": {},
   "outputs": [],
   "source": []
  }
 ],
 "metadata": {
  "kernelspec": {
   "display_name": "Python 3 (ipykernel)",
   "language": "python",
   "name": "python3"
  },
  "language_info": {
   "codemirror_mode": {
    "name": "ipython",
    "version": 3
   },
   "file_extension": ".py",
   "mimetype": "text/x-python",
   "name": "python",
   "nbconvert_exporter": "python",
   "pygments_lexer": "ipython3",
   "version": "3.9.7"
  }
 },
 "nbformat": 4,
 "nbformat_minor": 5
}
