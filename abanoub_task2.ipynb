{
 "cells": [
  {
   "cell_type": "code",
   "execution_count": 1,
   "id": "72e5ca25",
   "metadata": {},
   "outputs": [],
   "source": [
    "import networkx as nx"
   ]
  },
  {
   "cell_type": "code",
   "execution_count": 2,
   "id": "e96b658a",
   "metadata": {},
   "outputs": [
    {
     "data": {
      "text/plain": [
       "'2.6.3'"
      ]
     },
     "execution_count": 2,
     "metadata": {},
     "output_type": "execute_result"
    }
   ],
   "source": [
    "nx.__version__"
   ]
  },
  {
   "cell_type": "code",
   "execution_count": 19,
   "id": "8e5b9387",
   "metadata": {},
   "outputs": [],
   "source": [
    "# a \"plain\" graph is undirected\n",
    "P = nx.Graph()"
   ]
  },
  {
   "cell_type": "code",
   "execution_count": 20,
   "id": "7d7b8ee9",
   "metadata": {},
   "outputs": [],
   "source": [
    "# give each a node a 'name', which is a letter in this case.\n",
    "P.add_node('a')"
   ]
  },
  {
   "cell_type": "code",
   "execution_count": 25,
   "id": "4ba3a3d1",
   "metadata": {},
   "outputs": [],
   "source": [
    "\n",
    "nodes_to_add = ['b', 'c', 'd' ,'e' ]\n",
    "P.add_nodes_from(nodes_to_add)"
   ]
  },
  {
   "cell_type": "code",
   "execution_count": 26,
   "id": "b091a955",
   "metadata": {},
   "outputs": [],
   "source": [
    "\n",
    "P.add_edge('a', 'b')"
   ]
  },
  {
   "cell_type": "code",
   "execution_count": 31,
   "id": "5a57f98f",
   "metadata": {},
   "outputs": [],
   "source": [
    "edges_to_add = [('a', 'c'), ('b', 'c'), ('c', 'd'), ('c','e'),('d','e')]\n",
    "P.add_edges_from(edges_to_add)"
   ]
  },
  {
   "cell_type": "code",
   "execution_count": 35,
   "id": "fcb573c5",
   "metadata": {},
   "outputs": [
    {
     "data": {
      "image/png": "[encoded data removed]",
      "text/plain": [
       "<Figure size 432x288 with 1 Axes>"
      ]
     },
     "metadata": {},
     "output_type": "display_data"
    }
   ],
   "source": [
    "# draw the graph\n",
    "nx.draw(P, with_labels=True ,\n",
    "         node_color='pink',\n",
    "        node_size=1600,\n",
    "        font_color='red',\n",
    "        font_size=20,)\n"
   ]
  },
  {
   "cell_type": "code",
   "execution_count": 36,
   "id": "269ee2fd",
   "metadata": {},
   "outputs": [
    {
     "data": {
      "text/plain": [
       "NodeView(('a', 'b', 'c', 'd', 'e'))"
      ]
     },
     "execution_count": 36,
     "metadata": {},
     "output_type": "execute_result"
    }
   ],
   "source": [
    "P.nodes()"
   ]
  },
  {
   "cell_type": "code",
   "execution_count": 38,
   "id": "f5581c01",
   "metadata": {},
   "outputs": [
    {
     "data": {
      "text/plain": [
       "EdgeView([('a', 'b'), ('a', 'c'), ('b', 'c'), ('c', 'd'), ('c', 'e'), ('d', 'e')])"
      ]
     },
     "execution_count": 38,
     "metadata": {},
     "output_type": "execute_result"
    }
   ],
   "source": [
    "P.edges()"
   ]
  },
  {
   "cell_type": "code",
   "execution_count": 39,
   "id": "093c8a47",
   "metadata": {},
   "outputs": [
    {
     "name": "stdout",
     "output_type": "stream",
     "text": [
      "a\n",
      "b\n",
      "c\n",
      "d\n",
      "e\n"
     ]
    }
   ],
   "source": [
    "for node in P.nodes():\n",
    "    print(node)"
   ]
  },
  {
   "cell_type": "code",
   "execution_count": 40,
   "id": "259c2cd8",
   "metadata": {},
   "outputs": [
    {
     "name": "stdout",
     "output_type": "stream",
     "text": [
      "('a', 'b')\n",
      "('a', 'c')\n",
      "('b', 'c')\n",
      "('c', 'd')\n",
      "('c', 'e')\n",
      "('d', 'e')\n"
     ]
    }
   ],
   "source": [
    "for edge in P.edges():\n",
    "    print(edge)"
   ]
  },
  {
   "cell_type": "code",
   "execution_count": 41,
   "id": "5b64c11c",
   "metadata": {},
   "outputs": [
    {
     "data": {
      "text/plain": [
       "5"
      ]
     },
     "execution_count": 41,
     "metadata": {},
     "output_type": "execute_result"
    }
   ],
   "source": [
    "P.number_of_nodes()"
   ]
  },
  {
   "cell_type": "code",
   "execution_count": 42,
   "id": "119f1212",
   "metadata": {},
   "outputs": [
    {
     "data": {
      "text/plain": [
       "6"
      ]
     },
     "execution_count": 42,
     "metadata": {},
     "output_type": "execute_result"
    }
   ],
   "source": [
    "P.number_of_edges()"
   ]
  },
  {
   "cell_type": "code",
   "execution_count": 43,
   "id": "b896c642",
   "metadata": {},
   "outputs": [
    {
     "data": {
      "text/plain": [
       "<dict_keyiterator at 0x1e57f1bb270>"
      ]
     },
     "execution_count": 43,
     "metadata": {},
     "output_type": "execute_result"
    }
   ],
   "source": [
    "P.neighbors('e')"
   ]
  },
  {
   "cell_type": "code",
   "execution_count": 44,
   "id": "92ced9ba",
   "metadata": {},
   "outputs": [
    {
     "name": "stdout",
     "output_type": "stream",
     "text": [
      "a\n",
      "b\n",
      "d\n",
      "e\n"
     ]
    }
   ],
   "source": [
    "for neighbor in P.neighbors('c'):\n",
    "    print(neighbor)"
   ]
  },
  {
   "cell_type": "code",
   "execution_count": 45,
   "id": "5c3f0c00",
   "metadata": {},
   "outputs": [
    {
     "data": {
      "text/plain": [
       "['a', 'b', 'd', 'e']"
      ]
     },
     "execution_count": 45,
     "metadata": {},
     "output_type": "execute_result"
    }
   ],
   "source": [
    "list(P.neighbors('c'))"
   ]
  },
  {
   "cell_type": "code",
   "execution_count": 46,
   "id": "179fa6cb",
   "metadata": {},
   "outputs": [
    {
     "data": {
      "text/plain": [
       "False"
      ]
     },
     "execution_count": 46,
     "metadata": {},
     "output_type": "execute_result"
    }
   ],
   "source": [
    "nx.is_tree(P)"
   ]
  },
  {
   "cell_type": "code",
   "execution_count": 47,
   "id": "cb6d758f",
   "metadata": {},
   "outputs": [
    {
     "data": {
      "text/plain": [
       "True"
      ]
     },
     "execution_count": 47,
     "metadata": {},
     "output_type": "execute_result"
    }
   ],
   "source": [
    "nx.is_connected(P)"
   ]
  },
  {
   "cell_type": "code",
   "execution_count": 49,
   "id": "73c49734",
   "metadata": {},
   "outputs": [
    {
     "data": {
      "text/plain": [
       "True"
      ]
     },
     "execution_count": 49,
     "metadata": {},
     "output_type": "execute_result"
    }
   ],
   "source": [
    "'d' in P.nodes"
   ]
  },
  {
   "cell_type": "code",
   "execution_count": 50,
   "id": "d26260e2",
   "metadata": {},
   "outputs": [
    {
     "data": {
      "text/plain": [
       "True"
      ]
     },
     "execution_count": 50,
     "metadata": {},
     "output_type": "execute_result"
    }
   ],
   "source": [
    "P.has_edge('a', 'b')\n"
   ]
  },
  {
   "cell_type": "code",
   "execution_count": 52,
   "id": "8fb79024",
   "metadata": {},
   "outputs": [
    {
     "data": {
      "text/plain": [
       "True"
      ]
     },
     "execution_count": 52,
     "metadata": {},
     "output_type": "execute_result"
    }
   ],
   "source": [
    "('c', 'd') in P.edges"
   ]
  },
  {
   "cell_type": "code",
   "execution_count": 53,
   "id": "18fd7256",
   "metadata": {},
   "outputs": [
    {
     "data": {
      "text/plain": [
       "2"
      ]
     },
     "execution_count": 53,
     "metadata": {},
     "output_type": "execute_result"
    }
   ],
   "source": [
    "len(list(P.neighbors('a')))"
   ]
  },
  {
   "cell_type": "code",
   "execution_count": 57,
   "id": "fba071f0",
   "metadata": {},
   "outputs": [
    {
     "data": {
      "text/plain": [
       "4"
      ]
     },
     "execution_count": 57,
     "metadata": {},
     "output_type": "execute_result"
    }
   ],
   "source": [
    "P.degree('c')"
   ]
  },
  {
   "cell_type": "code",
   "execution_count": 98,
   "id": "9f0f651d",
   "metadata": {},
   "outputs": [
    {
     "ename": "IndentationError",
     "evalue": "unindent does not match any outer indentation level (<tokenize>, line 7)",
     "output_type": "error",
     "traceback": [
      "\u001b[1;36m  File \u001b[1;32m\"<tokenize>\"\u001b[1;36m, line \u001b[1;32m7\u001b[0m\n\u001b[1;33m    assert set(get_leaves(G)) == {'c', 'b'}\u001b[0m\n\u001b[1;37m    ^\u001b[0m\n\u001b[1;31mIndentationError\u001b[0m\u001b[1;31m:\u001b[0m unindent does not match any outer indentation level\n"
     ]
    }
   ],
   "source": [
    "G = nx.Graph()\n",
    "     G.add_edges_from([\n",
    "            ('a', 'b'),\n",
    "            ('a', 'd'),\n",
    "            ('c', 'd'),\n",
    "         ]) \n",
    "    assert set(get_leaves(G)) == {'c', 'b'}\n"
   ]
  },
  {
   "cell_type": "code",
   "execution_count": 99,
   "id": "ba075923",
   "metadata": {},
   "outputs": [
    {
     "data": {
      "text/plain": [
       "['COTTON', 'FABRIC', 'T-SHIRT', 'WHEAT', 'FLOUR', 'BREAD']"
      ]
     },
     "execution_count": 99,
     "metadata": {},
     "output_type": "execute_result"
    }
   ],
   "source": [
    "items = ['cotton', 'fabric', 't-shirt' , 'wheat' , 'flour' , 'bread']\n",
    "[item.upper() for item in items]"
   ]
  },
  {
   "cell_type": "code",
   "execution_count": 101,
   "id": "455fc91c",
   "metadata": {},
   "outputs": [
    {
     "name": "stdout",
     "output_type": "stream",
     "text": [
      "['a', 'b', 'c', 'd', 'e']\n",
      "[2, 2, 4, 2, 2]\n"
     ]
    }
   ],
   "source": [
    "print(P.nodes())\n",
    "print([P.degree(n) \n",
    "       for n in P.nodes()])"
   ]
  },
  {
   "cell_type": "code",
   "execution_count": 102,
   "id": "2fb692e7",
   "metadata": {},
   "outputs": [
    {
     "data": {
      "text/plain": [
       "[6, 6, 7, 5, 5, 5]"
      ]
     },
     "execution_count": 102,
     "metadata": {},
     "output_type": "execute_result"
    }
   ],
   "source": [
    "g = (len(item) for item in items)\n",
    "list(g)"
   ]
  },
  {
   "cell_type": "code",
   "execution_count": 103,
   "id": "8e3a0f25",
   "metadata": {},
   "outputs": [
    {
     "data": {
      "text/plain": [
       "7"
      ]
     },
     "execution_count": 103,
     "metadata": {},
     "output_type": "execute_result"
    }
   ],
   "source": [
    "max(len(item) for item in items)"
   ]
  },
  {
   "cell_type": "code",
   "execution_count": 105,
   "id": "acb3b82c",
   "metadata": {},
   "outputs": [
    {
     "data": {
      "text/plain": [
       "['BREAD', 'COTTON', 'FABRIC', 'FLOUR', 'T-SHIRT', 'WHEAT']"
      ]
     },
     "execution_count": 105,
     "metadata": {},
     "output_type": "execute_result"
    }
   ],
   "source": [
    "sorted(item.upper()\n",
    "       for item in items)"
   ]
  },
  {
   "cell_type": "code",
   "execution_count": 110,
   "id": "2afcbc8f",
   "metadata": {},
   "outputs": [
    {
     "data": {
      "image/png": "[encoded data removed]",
      "text/plain": [
       "<Figure size 432x288 with 1 Axes>"
      ]
     },
     "metadata": {},
     "output_type": "display_data"
    }
   ],
   "source": [
    "G = nx.Graph()\n",
    "\n",
    "G.add_nodes_from(['cat','dog','lion','elphant'])\n",
    "\n",
    "G.add_edge('lion','elphant')\n",
    "G.add_edge('cat' , 'dog')\n",
    "\n",
    "nx.draw(G, with_labels=True, font_color='red', node_size=1000)"
   ]
  },
  {
   "cell_type": "code",
   "execution_count": 111,
   "id": "154f47dd",
   "metadata": {},
   "outputs": [
    {
     "ename": "FileNotFoundError",
     "evalue": "[Errno 2] No such file or directory: '../datasets/friends.adjlist'",
     "output_type": "error",
     "traceback": [
      "\u001b[1;31m---------------------------------------------------------------------------\u001b[0m",
      "\u001b[1;31mFileNotFoundError\u001b[0m                         Traceback (most recent call last)",
      "\u001b[1;32mC:\\Users\\MICROS~1\\AppData\\Local\\Temp/ipykernel_9744/521773919.py\u001b[0m in \u001b[0;36m<module>\u001b[1;34m\u001b[0m\n\u001b[1;32m----> 1\u001b[1;33m \u001b[0mprint\u001b[0m\u001b[1;33m(\u001b[0m\u001b[0mopen\u001b[0m\u001b[1;33m(\u001b[0m\u001b[1;34m'../datasets/friends.adjlist'\u001b[0m\u001b[1;33m)\u001b[0m\u001b[1;33m.\u001b[0m\u001b[0mread\u001b[0m\u001b[1;33m(\u001b[0m\u001b[1;33m)\u001b[0m\u001b[1;33m)\u001b[0m\u001b[1;33m\u001b[0m\u001b[1;33m\u001b[0m\u001b[0m\n\u001b[0m",
      "\u001b[1;31mFileNotFoundError\u001b[0m: [Errno 2] No such file or directory: '../datasets/friends.adjlist'"
     ]
    }
   ],
   "source": [
    "print(open('../datasets/friends.adjlist').read())"
   ]
  },
  {
   "cell_type": "code",
   "execution_count": 112,
   "id": "c16fb657",
   "metadata": {},
   "outputs": [
    {
     "data": {
      "image/png": "[encoded data removed]",
      "text/plain": [
       "<Figure size 432x288 with 1 Axes>"
      ]
     },
     "metadata": {},
     "output_type": "display_data"
    }
   ],
   "source": [
    "D = nx.DiGraph()\n",
    "\n",
    "D.add_edges_from([(1,2),(2,3),(3,2),(3,4),(3,5),(4,5),(4,6),(5,6),(6,4),(4,2)])\n",
    "\n",
    "nx.draw(D, with_labels=True)"
   ]
  },
  {
   "cell_type": "code",
   "execution_count": 113,
   "id": "a442b64a",
   "metadata": {},
   "outputs": [
    {
     "data": {
      "text/plain": [
       "True"
      ]
     },
     "execution_count": 113,
     "metadata": {},
     "output_type": "execute_result"
    }
   ],
   "source": [
    "D.has_edge(1,2)"
   ]
  },
  {
   "cell_type": "code",
   "execution_count": 114,
   "id": "9bb66a6b",
   "metadata": {},
   "outputs": [
    {
     "data": {
      "text/plain": [
       "False"
      ]
     },
     "execution_count": 114,
     "metadata": {},
     "output_type": "execute_result"
    }
   ],
   "source": [
    "D.has_edge(2,1)"
   ]
  },
  {
   "cell_type": "code",
   "execution_count": 115,
   "id": "67f0e093",
   "metadata": {},
   "outputs": [
    {
     "name": "stdout",
     "output_type": "stream",
     "text": [
      "Successors of 2: [3]\n",
      "Predecessors of 2: [1, 3, 4]\n"
     ]
    }
   ],
   "source": [
    "print('Successors of 2:', list(D.successors(2)))\n",
    "\n",
    "print('Predecessors of 2:', list(D.predecessors(2)))"
   ]
  },
  {
   "cell_type": "code",
   "execution_count": 116,
   "id": "443a7864",
   "metadata": {},
   "outputs": [
    {
     "data": {
      "text/plain": [
       "0"
      ]
     },
     "execution_count": 116,
     "metadata": {},
     "output_type": "execute_result"
    }
   ],
   "source": [
    "D.in_degree(1)"
   ]
  },
  {
   "cell_type": "code",
   "execution_count": 117,
   "id": "5e7bfbcb",
   "metadata": {},
   "outputs": [
    {
     "data": {
      "text/plain": [
       "3"
      ]
     },
     "execution_count": 117,
     "metadata": {},
     "output_type": "execute_result"
    }
   ],
   "source": [
    "D.out_degree(3)"
   ]
  },
  {
   "cell_type": "code",
   "execution_count": 119,
   "id": "e3c49f1a",
   "metadata": {},
   "outputs": [
    {
     "data": {
      "image/png": "[encoded data removed]",
      "text/plain": [
       "<Figure size 432x288 with 1 Axes>"
      ]
     },
     "metadata": {},
     "output_type": "display_data"
    }
   ],
   "source": [
    "D = nx.DiGraph()\n",
    "\n",
    "D.add_edges_from([(1,2),(1,3),(1,4),(1,5),(2,3),(3,4),(4,5),(5,2)])\n",
    "\n",
    "nx.draw(D, with_labels=True)"
   ]
  },
  {
   "cell_type": "code",
   "execution_count": null,
   "id": "874105d4",
   "metadata": {},
   "outputs": [],
   "source": []
  }
 ],
 "metadata": {
  "kernelspec": {
   "display_name": "Python 3 (ipykernel)",
   "language": "python",
   "name": "python3"
  },
  "language_info": {
   "codemirror_mode": {
    "name": "ipython",
    "version": 3
   },
   "file_extension": ".py",
   "mimetype": "text/x-python",
   "name": "python",
   "nbconvert_exporter": "python",
   "pygments_lexer": "ipython3",
   "version": "3.9.7"
  }
 },
 "nbformat": 4,
 "nbformat_minor": 5
}
